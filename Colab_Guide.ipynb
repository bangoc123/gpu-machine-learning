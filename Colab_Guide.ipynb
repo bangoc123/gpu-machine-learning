{
  "nbformat": 4,
  "nbformat_minor": 0,
  "metadata": {
    "colab": {
      "name": "Colab-Guide.ipynb",
      "version": "0.3.2",
      "views": {},
      "default_view": {},
      "provenance": [],
      "private_outputs": true,
      "collapsed_sections": []
    },
    "kernelspec": {
      "name": "python2",
      "display_name": "Python 2"
    }
  },
  "cells": [
    {
      "metadata": {
        "id": "DvFLcYM-tj17",
        "colab_type": "text"
      },
      "cell_type": "markdown",
      "source": [
        "This Colab was designed for supporinting training models on GPUS machine. \n",
        "\n",
        "**Motivation**\n",
        "\n",
        "\n",
        "\n",
        "*   [Google Colab](https://colab.research.google.com/notebook#fileId=/v2/external/notebooks/io.ipynb&scrollTo=c2W5A2px3doP)\n",
        "*   [Dev steps to Google Colab](https://medium.com/@likho2manish/dev-steps-to-google-colab-5c72779c0ae9)\n",
        "\n",
        "\n",
        "\n",
        "#**I. Main Features**\n",
        "\n",
        "** * ** *\n",
        "\n",
        "1.  Get Main information of current Machine\n",
        "2.  Authorize with Google Drive, download all train codes to **GPU Server**\n",
        "3.  Train model on **GPU Server**\n",
        "\n",
        "##**Note**: System is still unstable. Maybe it about **runtime caching**. Actually i dont know, something you need to refresh again and run until it works.:(. Some bugs like this:\n",
        "\n",
        "![alt text](https://lh3.googleusercontent.com/kVfLNTCspFX1ElKMdvBdGtS6LRIXmaT1Z3b1U0dsmpCQoBEpBXTxqKoMTajkmRujV9D1fZbWJwtFjRqXSQxi8DVYrGgOckwPl1GLKKDKItgJshtIDjPhZg3ZfuwXhQgNuLHtakoIl8ehF_QenGO_jYPXAP06sPKgFsWks1rzC_v6sA6_iDTOibI7hFVctXMyuQ9LqPoBeIF9YUYuiDlf_1KVSfAtQQ5-_YTNPsRBBq3A9KPJbwbywQlbVwZQWUP9y9WwtdVnbYgjLRjQgg69KTTBTkr8clebxiTfRFfiKexniSNzxKJTqOUdFfZxPnaacbfmUJ0rRIP-HBhughtQj5ah8WSC6LYKklzScMGutaQj4eGzCbaOdAgYFXtfL7FLRdFu-BTwGMC_MBielGcQMhQ9scNr3ZmObmVMZ04N5uVwwWPR374WcbGIfUO4NuocH3n59C2gbvPiYy9e7YMdl_JwL7loB3IlU4qps4PJR14CKO680hdxb4WgaNLy_2v8r2yV0dn2zfgVndKTtOE-HvgClk7by8MYzbluu85RZzLR6rVUN0_HMpTGOknB09wo3w5FKT8FYwdF5lsZrdBNXyQaZGHRiKSs7ZCf6jw=w1596-h768-no)\n",
        "\n",
        "\n",
        "Or like this: In this case you can see, even we **changed** the file already, but system still through an error from **delelted file**.\n",
        "\n",
        "![alt text](https://lh3.googleusercontent.com/-_B_QElJKmCIBupu-0QdV4OYXN3Rzsqn-l9dSeV6BVoHoAYcUlPxnJ5hl6pl6nQvdquuzhIN_pWTVOK33QysNLwM1xd1cOzJCzce1VkDiqmFCJPdVxNJJ4KPEO-YgZlySKwiskQkvGdLDNJGxdfgNfSe8NFkktCzIpKoTAEM-amls5W1ybOIKXeo1kvGCg1HoQcHXtCRXt7VXbmMB2i1gzlEKMK_FIYQhPGKkVZfJUHM6Pnkx6c6RPcsDFKbH8UVNbM8Owg_lT-idr1tFWY9Yv5OzVB906_wgb9kL9nFewGOVLCFI4W16np7ILcj_i7jcdC0ubBCcQV-ZdJNy-UJm4okjXb4x4wcDCTAJfGSmfyOwKUY2iwoviWSc4MY6ac08bku3DIdxZ5NGwnUdGu9rv_HlyLci9Dek9rGg9dvXQ7kgYdt_UkYy8mlcaqviWImi8QARToPzSW7iPXVk2ZMCqSRnykfaNMvDNy5kzFYVWuLoX721pS84vbdoxGodoRxib6N1DXRc2Vjzc-Xnn5iW-wG2YfUje3mgsQMngVJNZWY6mzYaR3aJhZClrP2NMIvc8sfZWGlUzip9Jj67vF8GdMYXgFZzIAGpu7GaQA=w1536-h872-no)\n",
        "\n",
        "-> So i will followed and update when it's more stable.\n",
        "\n",
        "#**II. How to run**\n",
        "\n",
        "** * ** *\n",
        "\n",
        "**a.** Upload **Source Code** to One Folder\n",
        "\n",
        "*****\n",
        " \n",
        "\n",
        "*   In this case my folder named **Codelab NoteBooks**\n",
        "*   Keep structure folder like this.\n",
        "\n",
        " ![alt text](https://lh3.googleusercontent.com/VCcPU4Bffb8kJTQ4RLKyfH1gcFJ3qXOWgiThr1aJNIOcWbYPfI6yfke078A5fKZxSkgWUn_8Bnref7-G0Gje_-N_5LndCpnkuqewmv8XqtjnH9U_uDBqUbBoJYlbF7dLXo4akqVwU3XzapUgaJTe7B1eHZXbGpMw-Og4uCsAqqmQ8dEfZ51dVxpXQA1LjtKwKWX_6-_XbSCKTHWx-txME2o_tq4cQP16EpTxyED5JX51DP3HpuKOF4FI9mZDNGIBxM6KeIyhKrTGVU4O8EYAsB-ADrcmOkdbhQhB4-PnDFQAeXqhySlSzNzglmVQDqlVvNuLCLr9DqHp_XWlvvk_w6tTQnoAnVizaLxepQ-fd8UomTWWIariQ8SDkvIHUeWFkDUgGcZ9ZmDHgTPEJj6ox16spoETlHzQ0sjx4nLusqkIZUEtajDfy0tqiTSt7p-rszgHhqAT6u0Pg5epP1N_wkBN79B_fAvZNYyZw-ESyhN1E3xN1dAYB7C_1w5fpfIyTHubNIh0se7ucvKCjbNMMgXRVY6Br4xfdSBiL2FegZRv03yoCKqBIN90-2I9GcArtTKPzfax99S7Jqjj8ig0jHjbWUAwsr6memebDC_0GYzFlHfPmyVK2JdR0_vOcyFSYTuBWjC8llitujYuBZ2uLke0rRq0AFvo=w390-h256-no)\n",
        "\n",
        "\n",
        "\n",
        "![alt text](https://lh3.googleusercontent.com/OMbbxxp08RG1o0f-NFaxmKhhNb4BiedSUGBvKbJLPCrpl_5o15neOkxy9Im6DkkFARdBfKz6u6Badgwr-2NdrPiFFMZAc1S8vl0-697Ow6tctIv9mVFZ-PBwlXt8FneaagVqFg7JIGMm3GKyePymUpW3DcGurS-pUSwUvnh44UwziKWF0lnMLr9HQ8hTUKxVMVWo3g5QyRtOPLjq4_PWLsYznybleNYMmWLwtarWcL-zEOrx5SnAInxWcNj-hrP-FUTRLM7PfBeucUY1z_4rdsj3uy4C5utgw8BprcgmHWNid29xTWXSJzwE5zlguWmPH3qx4At9uyhaMSebgziNKqhTYyuHCxaFzY9O4YUF5tC_vJlx6B__7kDf0RZ1GEWnbftkBtzqY40vButdzLl8weeLH6EJ8hxOyIJ3VxqSx19YhUjOEdFWU_Cm80ps5W3ljGl0w6TEzapUA-Tbe0x3xuZKYjIqdUDuJ6Tju8-r7-J77ilEmTb_Ofy0cx7IW10UVKFQ91pW9f1oD6UukfgL_AXE1s1-CkLLo0KOCgCiN9_pOOAFh-8N8-adu8NOxT2i72204qeaz5KJlpYZ2sbRwvNZJ875Wwa16MwPxwvvNWnGx1Jii-0tkP5EZmNEdLf2n7YWwJGZRVEfWkRw8fg5mEpbFrYYYV4Z=w2646-h1406-no)\n",
        "\n",
        "*   Remember this folder name to next step\n",
        "\n",
        "**b.** Open file **BATMAN-VietAI.ipynb**\n",
        "\n",
        "*****\n",
        "\n",
        "![alt text](https://lh3.googleusercontent.com/Qfvfw2NZgdeEjAmQarL8GSMMPoS5cz5xnSueJZRK9BMFf9xoRrk7bGKHo7xQDZr73VoDctAXm1MPlMFGidWj-g4gMDJRGi7SKzQv4MZqxBpePTOnuvA1qDMru4V7Q3f71JonzqFXg68L-nc-A_6P8Ztiw7fvz_YG3hT9PQlj_x_tFA7Mc3K0HRR2KWFn0Hg-Ur-u1LtgXywCmD36pog56uVLWvYu9s0DU469_io7drfs6qvpNPa_kDRh8nFaw4V97s4DOZqZwsA6fj8XD0iwiEL9ex4_WNjrpKWHqCG_xj01PNKMtYWDREGZU1Kc-DQnR3G17yxvEC2SZ23t09L4ExH2Jw3ATty3iHZMNyQ_OMSNv3xE9y5E5-cyYMR5vtA7JGZnAqPutss1zjwI4S0nPHYJBX1MVs4jFBlWlz39D_O0vDiw7QKZ7G7E29HVLjQzWkg_SGhhoKkZ9BGcJga1tHxcw-WKEoxrM9hTBd9AuemR6VT_DQTDkGDebqQb4_SIfi_27R_kvCHImgpELNRGuuNyyosdArqBr0HqQUH79iB1JnBlguSsCOmQ5j7cmyp2V6ZdCqz_WMB4FVUhqZFqtVgK64m-NhMOjVlaKBDDT-S369eLdUrgvBrm2MrPy5v167s4h2aZCyibqkdH7CyELEXd35CDDZEN=w2646-h1396-no)\n",
        "\n",
        "**c.** Change Runtime Type to **GPU**\n",
        "\n",
        "****\n",
        "\n",
        "![alt text](https://lh3.googleusercontent.com/3n3dxhvYdNgi917giKnyBSSNPNWORddxZOh2irMlkW8v0h7O98SUGo3-5BC6sToWf_2rI8SmpwNCNjLZeoR3q9aYn5nw-0Vnvtu7DAhGTqrYvnfrVZL0LWmSkfjacOxB7H0-0uEqwu27SgAEaQ86XwFb9BAWXZbqbKNfoUGvhd34eOpuN0VPIxTUgtRtmPjFhbStlOdlgXWVyNtq6mW0tuk8yO8yrP8Bvbzi3UeyfmX2ZwRlZGW6KlfFPeXFmMNfpXVM97qKpc8uVqEgYtSvdj6_aEkYch6E6snm02sJl0FfNnznbCshUwnMPWPmYnKsNm3c6EjyLEt5TuOnEN6ZJpo75uVHzuH6acj-xjfPIIYg0CpwNWLGtiP_jvdP0zzUWGov0waytFTiIw5fdHTEL6zAkXKTlWm8iJMc6Ho3JIaNVKJtQXrA0l6GVeBjnstfgaeVl3rvOpCF7LYYFsZlUKBj77Qe2mL43JeYkUTPMpkeSnEKBNV2BKiGF3vJBtBqH9FDHVe7wBMvVhIs63O4Jzcv_HB0pKjXWV0IyMeAu5upCOQ8BLm1FrLBSENnAf9gtp9BRFIkHXAr04lP-_HrXthcctb3FKl64kBpfUJG5FG7hQq7P0hSzHg0LEcK5HSqc3DKihrina0-UA3LyuAefbAwdVIVAE1-=w588-h602-no)\n",
        "\n",
        "![alt text](https://lh3.googleusercontent.com/RC71dnrTNNm78Av4FOAy89rdMQcP-FoEUj4qUAmV97LNoExEb8d9uYmJnDk1xQ0eZfd6tgJSRhTGv2RiZhhYlw2l4j5Fk_46SCRX8c6iR_I7ufPO59LzmsWUPk5OZqDGDd8RMhnQfhRopJVAxMtqadF4f8iW7cBgiADL2V4uZqfo0lNz7AqHpN_kTf13TfjUSfdXpoetVXx4EFvYb1kwhUHMVf71Xpbz0Ph4qR4G0bhyHp5bJeSpvK6FeXn4cRncXTI5gpS_cck3bK4qZbb5ataxPC1dHGA0_nFH6P3LFD41NzC8BnbTCalm24qxsFKmLYubhamASLvmbtsz8aaW6xB0PQh1hnfk9EnTVmjGy5HNMNVZ7BuLZxk0fIHGn-E-H2jkjTHOmcQFLpKRj6i-LHB9Eh9hqEIeLZsn0yIrLP3t6b1CIKnMkux8LPDGaWoKBfBRO_9vSopbq3ewa_1tXk3yiW9bk4H1DjJxcmWYrITlJ6GGuFFG5FPUMod_7Sne9yaTHXkKIXFMFF2YwuT8xWAKs2gZYfCF0g7xAv-aiqomIZcSNxwZs3fPhGKK8QLQTtjYX-lGDLj09fqpNx7rsiWGqAe0AnK-XVobPyn_YQxS17e56qESGK0FGtz_Z-fCmFNqwpPYBakLGiNJrN3nhk3Qd3il--Fk=w782-h632-no)\n",
        "\n",
        "**d.** Click **Run all**\n",
        "\n",
        "****\n",
        "\n",
        "\n",
        "* Application will need authorized with Google Drive to download all of our codes to local folder on **GPU server**. You need to **Click to link at step 2** -> **Get Token** -> **Paste Token to Input** -> **Enter**\n",
        "\n",
        "![alt text](https://lh3.googleusercontent.com/x66BpmQFljwrBaLmS_IXdvzO1LFFOXkJ3ZDA0i0v3zHCfmic1Z4H9EaNhB7wBSW9c_lJh3LLhqIiDuhznkT3IdTDZ04wyykD6lGpEQsBQvMFA9jp8YvjboQpxGAAsSBMCnQYKMr5J94NWLpXDP_nzQI0RuSklqZih5_pmZMmeyjTOuzUpIRi4xF4brLpPyICzTsAoBqTEevnUAA5S9bgknkbRwOXsbo5LuxvmPfjD9S50M3rAXQ7tyv34Bnh8nK0GzRkpI-CuWkq74e-jDgc49XnD538Op1aKETuQzkjbNm8m6BogmQBsUI-vHb3od2Yebk0yHC_6JPx-k38GK6113Tdilk_l2BB550SST1h9LMKIrWZ3S4W2Fsmp9VkxHgksY2Hd9vqDJ3G62y1okkD_TpqY3WVthjQe6Lfzkk9L39AnruQ0qK4OQhA2OSwSI4moli-kjLYYMzk2pfEvHgap75HCGzMq-JI6r9U2-ubK8Dq-lr_wmwiAoBSnD4gTHMQiCiG5lbetdk_RZ4CTC52UILxm9p9EdfLfGuZYB9XvxiYXYB9FQtZ5-7iFmX8GVlsvpR21imfs64OtyKT_xMcMjYs66ojudUb-IF7ZCG7etdhaO5AnXJSBMoX_NrAxVjwes9rGdBBjpichT3evmARtZ5XWr3VQ7bx=w2712-h748-no)\n",
        "\n",
        "\n",
        "![alt text](https://lh3.googleusercontent.com/57XNXqbcPe4m_g4KyCuRF2uSauraNWyrosjyb-CvXPzV2iGNxCTp6eUonr_QquiC4iPdE1B8Q8E7Av7Dtdo3Dh_8bS2MOl0GCtQdhddpPpTEiU6Hl64Aq8AFHNvUDmQLpX_4Rj1dwbZvBXdyoS2O3lmjaaECPaZhlx-e5BOMbv1RL7TkDsGI4pNq3AKui4TR2Hhpc-HjvF-gZWmoAFcHXiynkjfhrevb8Jm6ChZ8NgnklgYRzBPgo_QP7yw620-Gaom0s_WsBLKsiE6KUlJSMhpCxJqNu9S35p3f9518a20Uu0VB7p0C5rkFExzjN5qTEk_3_q_pGVEW-ymKI8U6cHSW-loXXtB3Oo3y40uFLRUFGYqZCG6aoOC9CG1mOq8MD0xeKQ3RJRn-D9nptRWkXmlBPAbzgnWpkHEk3p7KKIP2iG1rAJx8lI8ODqhPiX6BKAvzoMn-2hR0ZbIe6CRoC4Xge5_6NC-LMCbiZtcvD2xVy4MeGAEWrHvM1Y5eEFs4xE1mHneHM4j7hSJshC97dlgj8-g-k0nUrqEvUBbf6-bfuZIHpEjvzLWbL2Dnd_UMyUaxH4uqyowExUe1XVUiAc0pRR0wuKeHrQJwRCdCfJEaV2A0L7g0RlTjJ7YsEB61H8h8RD_xFOTrFARtvu1fAbmYvLyEsNQY=w2742-h730-no )\n",
        "\n",
        "\n",
        "![alt text](https://lh3.googleusercontent.com/Ov9oyr_dvUcDm9PmEotbduKmUAFLMw1RDQGdkscNYTmBVzrYo5-hlNWg00FYHXqnHGbYxPZMJWNukarVF2K-yCdpQgdEmrroA62awDrJP6Xnhel3gqIpWpfZHgbzM7uKs6hIJ1ENlO5JDKURIEwNpGGsPDPNmKwaquWRdQiRTgY11kPvEdU0WU1zNoJgFZj3M0B7dno20AEpuFlgceG101wrbadsEcaJ1zOaFx8i6tS8vrY5vUy2wBw74JHE5s8PB6sdxqOtEzUzX2Xi2RKESNGj8oTHW3-NCQHWdnSXJ7X8ziqzfWKqdBVNM2swZL1LrHSsPMIKzyqDIeqf5isoHgDNFhxvJSahhGxmfXCA6tKU7FHkuCHUl6V_setWGAsciWevrAIhs0y6CDY6fk51Io9rb_8ONCEeWMaoanBvpLp_uh6wGdHFfjz29Ciq7bC9WgX6Iyd9sX9pCCuLGETEs0gptuFxQ8wQtAmDwIQjitQI6DKU5VB1k3QdiYDLAN0jMUSCiqx6M2_qmEX7kmj-yK2gJp1afQDQu65c6uW5mq1zS0c63hpvxZuuMWPR1q9vS32ZVorRQRM2PBpFV4xd-y8hCXwpLvYsi7GEZHlKzFi_qGCP41b-lATzpsbeh_-VeQ67DFLjatWzv9OUjnk8NddQHT9weNKy=w1064-h1254-no)\n",
        "\n",
        "\n",
        "![alt text](https://lh3.googleusercontent.com/nzHvlsyZeWALs0k7xXMh58Em1Bc3ZRx3nzAkLmlz2c_VKIrNJ1lv2wbkjHCUERqdq9ypDv1i3tna9-nqA0iT49SjNEuPosX7eJsjPkgNNdcDR9WMh6es0DLCDwLH73L56yNj6i0jHTuDhz8MeVxje0ocqTtPL8TxbXDdgRLeSy3NP8w4yiHfRbOxnvue9Ujh7visAj3Ob9P5k3jm_vzDdTYaM-_ElqJOhexvlXVvODC7z4qywt38QOCpmrkPCs-1A61tIFzzO11wOkUkKdZnfNxnH-YTv5z6gxaCjgt9kmIeYXUpJv0GwQYj1hFLdbNoZfk-fSjcBgysHVtKy2CE_mTP5jWaLssNgITT4CLfzyy3e0GNIhbmsG7OV665J0hNDt_ry9Z_aHq2yC2Q01vFTSiwtNRkcRAV2bhyEi6GV4fEGD_XknQArQWvWv18P6_xIm4cKh5w-rpGNNsWlH_G-R8XwQAozGQWq6nXFNaWXUDPibRBgzF2u8y1ZA2Ago9-DBFEB9VjNu7cuc01BVGX1qK2yY4nHvHs_7YukGQ66NgyFUKf8nTSrYLggPHLgR9UWrv3VN9plttpNNSTxJmIBIYuryCYG6oT28hvBug=w1300-h704-no)\n",
        "\n",
        "\n",
        "![alt text](https://lh3.googleusercontent.com/k9U5C33ssZt_8sqyIwUjWxiqAX2HC0IKZwgHWqFhNBxPPOg6mAGwKiV-58Ymkb2P1ccAhHyAJS82w1Ru1F-B22MlEVgBS5bJHGpiO6H3q8PTHzihfN3RJYJ5Zh5_7-cyPr2VZdHPKOmxYo5JkfpxtWb75anXimTfZipfHbg8_S4geoYIqiVOGevM35Qhnl8J7bUUsrcOMANN31rtLwcc4S-nKbx-rBlEebK731XrkJ7OHn-iwf6RWrr0dM8ECmoglVw9aopwWrq-GF-1gCzOujZy0dmG1L7AdX_8QCw6SqXc3c88E94GTFGIrWJJzIcoumJH9P3t5JhOQ_E0ULaf4ofhs5M_DcQ9CuwLV2hP5yTE9g7YH_P0QKQYP6QKdm53NOehW2EaoXnwSy_WYixBMrfIkWwmHUmvQqlrPH75w0MygXWkJP6UIbR0zhjXv6JfW8q_2BXd3MAUdjrxWcjBy3g6tOBhlIoZ7oMoMp0Q9VN-0C1gR7WV2iCaPOJRfyY1qDAbdMbuv5BvhSXvtL05NvkO4H94c47hTgwvUwbjTxghb8pQjrTfSrvYrZuBc6gwDPRlJNFKkCoakSkSR-FNEOcXZaDp1IhhREpcQGbHtPItNBQLkFV9llpd3oHSwTPoXjqkDYnaOo7I5e2lshuQBvD8AzfmL-2E=w2728-h724-no)\n",
        "\n",
        "\n",
        "**e.** Enter **Folder Name** to download files from **Google Drive** to **Local Server**\n",
        "*****\n",
        "\n",
        "![alt text](https://lh3.googleusercontent.com/PIMrmTtY8P1v9MoMmUnm6laoU-gFXi6IdFSquNP6gghLgRtLO_i9KEmpmtsbycEzpb-IDjgdFoA8OesZkB_c6SSdkVoV4Vk3mpf6Rlq77wtlXttJWXpKDKWX3j54md0fdQhwtSxtSH6RPUu1WtPXpiTlcJuYm17eX5UPCz18osZ0DEVTxelNonvx1CexkXD9QFag34jfWJ4G75jwIT2olFYr5OSniCEZ9NIkt5KkCKmeQ5Xe4A8Tee6ocBd7iycsZ8ggm_r0XJx09EnDmiIiYiJ0fZtHMVrnddVitE69lWJcGe9ORQax4tbWgCwuHuD6HrEaAjF5sNomArHHuLGmpi0rOEik9zaHMYAZNN8anzc2-x8ESUDgMJqO75fASNvWhJ_Zj5KoDaNzOJRrKQJkS40GrG4763U2wf2wqZAeuBYKODJClxKfq7dwb4tiijcYiG7XxTXPY6p35zJl9NqMDAc5HcyQmBD8hnQ5nHxbkiMMkug0IaNjF0auWgJIpuwPoWbWnI3K3cOrTjvfNB_3z9uTdckO_uVNC-RAnU_uyju1naL6WeAcUPAwE6A9HDCIoXUcEXrjFsoorsu3XvbSFwFubwHtZRzEGude692HBMRh_OOhmS_TTqrUowz8_VgcvpkN2YFXkzTIwHWXw16rxvzFXNjRLNvN=w2712-h792-no)\n",
        "\n",
        "![alt text](https://lh3.googleusercontent.com/LOqymOzkl-TXZNdgEyCDl4Kn21QXITaPuU3hGu87Tfw0IiQD6Q1LCw_2UadxKoBBYnOizrRWrJ07dBgTZU-CXzuXuApsbcsLhqUfw4azUI1Xy3H_7TnakKulYzCSDxYb-OIxrSShVcPAndBDUwrKJrHgbhQq2OflbH-HJtrUrI0L7QO4LnT9DQZOMEC9mMKGeOqVtTxeLoAiX5nkgBQZSDzT9Ntz2hnZfW7pRXY2I0DudkuaS9sUCHjSymAFWBAj-2Lzinwt6oSbUTSoShrAcn6ePRL6hNucQTkF5WkBEqZTxEIPIcZJUKsGbWhcY8WF9Pv7OG-3SJXS0U55X_Y0e4Gl1Mxb8_ZP6dr-UYMSBFQCfizvgeb89uuYorqLIViEBkqg5uJ24EkwwD5TyIrjgtK-0RTNKVmiEu-fKwSSVAgbEbMFKIEiEennEAwzNwurwuj5ZON6Tn3RT955ogRRr2pgTbhuWpYmENiz_agdIagB8LOlNGGktERLt1bLswMySiBJEYp0luKWcnfFcohU7Ry12hnq_li73jHLOZZxLIT2-9-bWjqVseVbkJd-_jK5ld2x25UtbXUciNZff6WFRq-RitkFAsAPMeL0qqdYjizrEOgxAIT7B6B_ADFe5e95_l7fNwj9FzrBvIKQwK8XAlIhPkUPzxKw=w2716-h1370-no)\n",
        "\n",
        "**f.** Now we can call function **Main Function** to train \n",
        "*****\n",
        "\n",
        "![alt text](https://lh3.googleusercontent.com/JR84u00FntWSO9EAUapgf4ioLmPSA_EFY7QQm2QFetGoD_I3WhIgaWWGVm_gG9YLkI2aFBYEWREkN0FL3sjo5tmp6N_5BpZwerGuwkoO0JzMcNkxI32TdLGj1o2E_SyxxxnrOg871cCZmZICPsAsYUGu9TjKy_us_QYCea43BLTIrNGSznAshLPWIhQfs7dINtypGDnyCtchuXGhp2YwTYXnUCpmqBnDjgTQYLpdNJvM1KUSjaVnH7nuCoFvf5aH5d1d8I3GjEecc4DQDIWavFo3XDTjuyP-xzDJ_Akw49OePbMaAzTaNzxtyunQILXx8lGgkQ6bHusBuMZB4Jee5s06mx2Sh_4nCRLiuEcvlYXdqCan_ii8DekEQycmZwEARbPa4FfDH3wfjmDYOK3H0r9ajguxsrGsOHTd9ZBr9gdN0Lf1DwbbVCCpkZEvSSB782e9SjrzsJBpWrcCdbVnjd74xHl136-Ixl2E0y9V0Q1WdaOPuYT7gvhAS_wZ1LEIlzoN1EgsrJ31UvjVOd8hyQ77ff2E1j50EAHnMMFk40IihQnvE00A-Um30ImaNkoaoDGUINoDMTDgWeEx8PG_JKz5reYbmHDsfA4Aqv4=w2500-h1140-no)\n",
        "\n",
        "#**III. Steps Explanation **\n",
        "\n",
        "\n",
        "** * ** *\n",
        "\n",
        "## **A. Part 1: Get files from Drive and add to local folder of Codelabs **\n",
        "\n",
        "** * ** *"
      ]
    },
    {
      "metadata": {
        "id": "JmSL436SqFuK",
        "colab_type": "text"
      },
      "cell_type": "markdown",
      "source": [
        "### **1. Get Current Information of this machine**\n",
        "\n",
        "This function will get current infomation of this machine\n"
      ]
    },
    {
      "metadata": {
        "id": "s66ZQirAA17v",
        "colab_type": "code",
        "colab": {
          "autoexec": {
            "startup": false,
            "wait_interval": 0
          }
        }
      },
      "cell_type": "code",
      "source": [
        "# [1] GET INFORMATION OF MACHINE\n",
        "from tensorflow.python.client import device_lib\n",
        "device_lib.list_local_devices()"
      ],
      "execution_count": 0,
      "outputs": []
    },
    {
      "metadata": {
        "id": "cV21CI21ulif",
        "colab_type": "text"
      },
      "cell_type": "markdown",
      "source": [
        "### **2. Authorize with Google Drive**"
      ]
    },
    {
      "metadata": {
        "id": "iv1aLIB-BboU",
        "colab_type": "code",
        "colab": {
          "autoexec": {
            "startup": false,
            "wait_interval": 0
          }
        }
      },
      "cell_type": "code",
      "source": [
        "from google.colab import auth\n",
        "from googleapiclient.discovery import build\n",
        "import io , requests, os\n",
        "import sys\n",
        "auth.authenticate_user()\n",
        "from googleapiclient.discovery import build\n",
        "drive_service = build('drive', 'v3')\n"
      ],
      "execution_count": 0,
      "outputs": []
    },
    {
      "metadata": {
        "id": "YHtfLrHZu_sU",
        "colab_type": "text"
      },
      "cell_type": "markdown",
      "source": [
        "### **3. Get Parent Folder **"
      ]
    },
    {
      "metadata": {
        "id": "n1onDXVMCNWN",
        "colab_type": "code",
        "colab": {
          "autoexec": {
            "startup": false,
            "wait_interval": 0
          }
        }
      },
      "cell_type": "code",
      "source": [
        "def get_parent_folder(folder_name):\n",
        "  page_token = None\n",
        "  folder_array = []\n",
        "  query = \"name='%s' and mimeType='application/vnd.google-apps.folder'\" % folder_name\n",
        "  while True:\n",
        "      response = drive_service.files().list(q=query,\n",
        "                                          spaces='drive',\n",
        "                                          fields='nextPageToken, files(id, name)',\n",
        "                                          pageToken=page_token).execute()\n",
        "      for file in response.get('files', []):\n",
        "          # Process change\n",
        "          #print (file.get('name'), file.get('id'))\n",
        "          folder_array.append({\"name\" : file.get('name'), \"id\" : file.get('id')})\n",
        "      page_token = response.get('nextPageToken', None)\n",
        "      if page_token is None:\n",
        "          break\n",
        "  return folder_array"
      ],
      "execution_count": 0,
      "outputs": []
    },
    {
      "metadata": {
        "id": "_uHAlLfFwpUN",
        "colab_type": "text"
      },
      "cell_type": "markdown",
      "source": [
        "### **4 Get Files List From Parent Folder**"
      ]
    },
    {
      "metadata": {
        "id": "s2_kF1igDLoK",
        "colab_type": "code",
        "colab": {
          "autoexec": {
            "startup": false,
            "wait_interval": 0
          }
        }
      },
      "cell_type": "code",
      "source": [
        "def get_files_from_parent(parent_id):\n",
        "  \"\"\"\n",
        "  \n",
        "  \n",
        "  \n",
        "  \n",
        "  \n",
        "  \"\"\"\n",
        "  page_token = None\n",
        "  folder_array = dict()\n",
        "  query = \"'%s' in parents\" % parent_id\n",
        "  while True:\n",
        "      response = drive_service.files().list(q=query,\n",
        "                                          spaces='drive',\n",
        "                                          fields='nextPageToken, files(id, name)',\n",
        "                                          pageToken=page_token).execute()\n",
        "      for file in response.get('files', []):\n",
        "          # Process change\n",
        "          #print (file.get('name'), file.get('id'))\n",
        "          folder_array.update({file.get('name'):file.get('id')})\n",
        "      page_token = response.get('nextPageToken', None)\n",
        "      if page_token is None:\n",
        "          break\n",
        "  return folder_array"
      ],
      "execution_count": 0,
      "outputs": []
    },
    {
      "metadata": {
        "id": "JAvFFoDcw5ti",
        "colab_type": "text"
      },
      "cell_type": "markdown",
      "source": [
        "### **5. Download file from Google Drive to local folder **"
      ]
    },
    {
      "metadata": {
        "id": "_uCzzJmIDSWv",
        "colab_type": "code",
        "colab": {
          "autoexec": {
            "startup": false,
            "wait_interval": 0
          }
        }
      },
      "cell_type": "code",
      "source": [
        "def get_file_buffer(file_id, verbose=0):\n",
        "  \"\"\"\n",
        "  \n",
        "  \n",
        "  \n",
        "  \"\"\"\n",
        "  from googleapiclient.http import MediaIoBaseDownload\n",
        "  request = drive_service.files().get_media(fileId=file_id)\n",
        "  downloaded = io.BytesIO()\n",
        "  downloader = MediaIoBaseDownload(downloaded, request)\n",
        "  done = False\n",
        "  while done is False:\n",
        "    # _ is a placeholder for a progress object that we ignore.\n",
        "    # (Our file is small, so we skip reporting progress.)\n",
        "    progress, done = downloader.next_chunk()\n",
        "    if verbose:\n",
        "      sys.stdout.flush()\n",
        "      sys.stdout.write('\\r')\n",
        "      percentage_done = progress.resumable_progress * 100/progress.total_size\n",
        "      sys.stdout.write(\"[%-100s] %d%%\" % ('='*int(percentage_done), int(percentage_done)))\n",
        "  downloaded.seek(0)\n",
        "  return downloaded"
      ],
      "execution_count": 0,
      "outputs": []
    },
    {
      "metadata": {
        "id": "o_92Rtm3sJq2",
        "colab_type": "text"
      },
      "cell_type": "markdown",
      "source": [
        "### **6. Download all logic files to current folder, all data to /data folder **"
      ]
    },
    {
      "metadata": {
        "id": "LL1y4gMYsJIc",
        "colab_type": "code",
        "colab": {
          "autoexec": {
            "startup": false,
            "wait_interval": 0
          }
        }
      },
      "cell_type": "code",
      "source": [
        "import shutil\n",
        "def downloads_files_and_data(input_file_meta):\n",
        "  \"\"\"\n",
        "  \n",
        "  \n",
        "  \n",
        "  \n",
        "  \"\"\"\n",
        "  SOURCE_FOLDER='/content/'\n",
        "  print('********** Download Logics Files **********')\n",
        "  for file, id in input_file_meta.items():\n",
        "    # If file is data -> need to go inside and download\n",
        "    if file == 'data':\n",
        "      datas = get_files_from_parent(id).items()\n",
        "      # Remove and create data folder\n",
        "      if(os.path.exists('data')):\n",
        "        shutil.rmtree('data', ignore_errors=True)\n",
        "      os.makedirs('data')\n",
        "      for file, id in datas:\n",
        "        DATA_FOLDER = '/content/data'\n",
        "        print('********** Download Data Files **********')\n",
        "        try:\n",
        "          downloadedData = get_file_buffer(id, verbose=1)\n",
        "          dest_data = os.path.join(DATA_FOLDER, file)\n",
        "          print(\"processing %s data\" % file)\n",
        "          with open(dest_data, \"wb\") as out:\n",
        "            out.write(downloaded.read())\n",
        "            print(\"Done data %s\" % dest_data)\n",
        "        except ValueError:\n",
        "          print('SOME_THING_WENT_WRONG', ValueError)    \n",
        "    else:\n",
        "      try:\n",
        "        downloaded = get_file_buffer(id, verbose=1)\n",
        "      except ValueError:\n",
        "        print('SOME_THING_WENT_WRONG', ValueError)    \n",
        "      dest_file = os.path.join(SOURCE_FOLDER, file)\n",
        "      print(\"processing %s data\" % file)\n",
        "      with open(dest_file, \"wb\") as out:\n",
        "        out.write(downloaded.read())\n",
        "        print(\"Done logic file %s\" % dest_file)"
      ],
      "execution_count": 0,
      "outputs": []
    },
    {
      "metadata": {
        "id": "-JtUxPkCyc4U",
        "colab_type": "text"
      },
      "cell_type": "markdown",
      "source": [
        "### **6. Run download logic files and datas **\n",
        "\n",
        "Each time you have change in Drive folder, you need to re-run this function."
      ]
    },
    {
      "metadata": {
        "id": "0CZFN-isDSZ0",
        "colab_type": "code",
        "colab": {
          "autoexec": {
            "startup": false,
            "wait_interval": 0
          }
        }
      },
      "cell_type": "code",
      "source": [
        "from termcolor import colored\n",
        "folder_name = raw_input('Please input the Google Drive folder name: ')\n",
        "parent_folder = get_parent_folder(folder_name)\n",
        "print('parent_folder', parent_folder)\n",
        "\n",
        "if parent_folder and len(parent_folder) >= 1:\n",
        "  print colored('----Get Folder Information Successfully-----', 'green')\n",
        "  print('-----Folder Name: %s' %(parent_folder[0]['name']))\n",
        "  print('-----Folder ID: %s' %(parent_folder[0]['id']))  \n",
        "  input_file_meta = get_files_from_parent(parent_folder[0][\"id\"])\n",
        "else:\n",
        "  print colored('----This folder does not exists. Please recheck on your Google Drive -----', 'red')\n",
        "  print colored('----Application closed-----', 'red')\n",
        "  sys.exit()\n",
        "  \n",
        "  \n",
        "downloads_files_and_data(input_file_meta)"
      ],
      "execution_count": 0,
      "outputs": []
    },
    {
      "metadata": {
        "id": "PP0OtSc28Hjm",
        "colab_type": "text"
      },
      "cell_type": "markdown",
      "source": [
        "## **B. Part 2: Training **\n",
        "\n",
        "** * ** *"
      ]
    },
    {
      "metadata": {
        "id": "XMZGyoMu170_",
        "colab_type": "code",
        "colab": {
          "autoexec": {
            "startup": false,
            "wait_interval": 0
          }
        }
      },
      "cell_type": "code",
      "source": [
        "# RUN MAIN FUNCTION FROM HERE"
      ],
      "execution_count": 0,
      "outputs": []
    }
  ]
}
